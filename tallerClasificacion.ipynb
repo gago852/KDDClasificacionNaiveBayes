{
 "cells": [
  {
   "cell_type": "code",
   "execution_count": null,
   "metadata": {},
   "outputs": [],
   "source": [
    "#integrantes: GABRIEL GOMEZ, EDUARDO DE LA HOZ, STEPHANIA DE LA HOZ"
   ]
  },
  {
   "cell_type": "code",
   "execution_count": null,
   "metadata": {},
   "outputs": [],
   "source": [
    "import numpy as np\n",
    "import pandas as pd"
   ]
  },
  {
   "cell_type": "code",
   "execution_count": null,
   "metadata": {},
   "outputs": [],
   "source": [
    "a,b = 'áéíóúüñÁÉÍÓÚÜÑ','aeiouunAEIOUUN'\n",
    "trans = str.maketrans(a,b)\n",
    "# Read in tweet data\n",
    "tweetsread = 'tuits_bayes.txt'\n",
    "tweets = pd.read_csv(tweetsread, header=0, encoding='latin_1')"
   ]
  },
  {
   "cell_type": "code",
   "execution_count": null,
   "metadata": {
    "tags": []
   },
   "outputs": [],
   "source": [
    "tweets[\"text\"]=tweets[\"text\"].str.replace('http\\S+/\\S+','')\n",
    "\n",
    "tweets[\"text\"]=tweets[\"text\"].str.replace(r'\\b(\\w{1,2})\\b','')\n",
    "\n",
    "tweets[\"text\"]=tweets[\"text\"].str.translate(trans)\n",
    "\n",
    "tweets[\"text\"]=tweets[\"text\"].str.lower()\n",
    "\n",
    "tweets[\"text\"]=tweets[\"text\"].str.replace('[^a-z A-Z]','')\n",
    "\n",
    "tweets=tweets.groupby(\"screen_name\").filter(lambda grupo: len(grupo)>=5)"
   ]
  },
  {
   "cell_type": "code",
   "execution_count": null,
   "metadata": {},
   "outputs": [],
   "source": [
    "p_train = 0.80 # Porcentaje de train.\n",
    "\n",
    "tweets['entrenamiento'] = np.random.uniform(0, 1, len(tweets)) <= p_train\n",
    "train, test = tweets[tweets['entrenamiento']==True], tweets[tweets['entrenamiento']==False]\n",
    "tweets = tweets.drop('entrenamiento', 1)"
   ]
  },
  {
   "cell_type": "code",
   "execution_count": null,
   "metadata": {
    "tags": []
   },
   "outputs": [],
   "source": [
    "print(\"Datos usados para el entrenamiento: \", len(train))\n",
    "print(\"Datos usados para la prueba: \", len(test))"
   ]
  },
  {
   "cell_type": "code",
   "execution_count": null,
   "metadata": {
    "tags": []
   },
   "outputs": [],
   "source": [
    "repe=train[\"screen_name\"].value_counts()\n",
    "proApior=(repe[0:len(repe)]/len(train))"
   ]
  },
  {
   "cell_type": "code",
   "execution_count": null,
   "metadata": {
    "tags": []
   },
   "outputs": [],
   "source": [
    "aux=train.copy()\n",
    "desgrupado=aux.drop(labels='entrenamiento', axis=1)\n",
    "dfgTrain=desgrupado.groupby([\"screen_name\"])\n",
    "alfonzo=dfgTrain.get_group(\"lopezobrador_\")\n",
    "unam=dfgTrain.get_group(\"UNAM_MX\")\n",
    "microsoft=dfgTrain.get_group(\"MSFTMexico\")\n",
    "cmll=dfgTrain.get_group(\"CMLL_OFICIAL\")"
   ]
  },
  {
   "cell_type": "code",
   "execution_count": null,
   "metadata": {},
   "outputs": [],
   "source": [
    "counts = dict()\n",
    "for groupby in train.groupby(\"screen_name\"):\n",
    " for line in alfonzo[\"text\"]:\n",
    "    words = line.split()\n",
    "    for word in words:\n",
    "        if word not in counts:\n",
    "            counts[word] = 1\n",
    "        else:\n",
    "            counts[word] += 1\n",
    "\n",
    "\n",
    "nuevoDFAlfon=pd.DataFrame(counts,index=[0]).T\n",
    "#proalfo.sort_values([0],ascending=False)"
   ]
  },
  {
   "cell_type": "code",
   "execution_count": null,
   "metadata": {},
   "outputs": [],
   "source": [
    "counts = dict()\n",
    "for groupby in train.groupby(\"screen_name\"):\n",
    " for line in unam[\"text\"]:\n",
    "    words = line.split()\n",
    "    for word in words:\n",
    "        if word not in counts:\n",
    "            counts[word] = 1\n",
    "        else:\n",
    "            counts[word] += 1\n",
    "\n",
    "\n",
    "nuevoDFunam=pd.DataFrame(counts,index=[0]).T"
   ]
  },
  {
   "cell_type": "code",
   "execution_count": null,
   "metadata": {},
   "outputs": [],
   "source": [
    "counts = dict()\n",
    "for groupby in train.groupby(\"screen_name\"):\n",
    " for line in microsoft[\"text\"]:\n",
    "    words = line.split()\n",
    "    for word in words:\n",
    "        if word not in counts:\n",
    "            counts[word] = 1\n",
    "        else:\n",
    "            counts[word] += 1\n",
    "\n",
    "\n",
    "nuevoDFmicrosoft=pd.DataFrame(counts,index=[0]).T"
   ]
  },
  {
   "cell_type": "code",
   "execution_count": null,
   "metadata": {},
   "outputs": [],
   "source": [
    "counts = dict()\n",
    "for groupby in train.groupby(\"screen_name\"):\n",
    " for line in cmll[\"text\"]:\n",
    "    words = line.split()\n",
    "    for word in words:\n",
    "        if word not in counts:\n",
    "            counts[word] = 1\n",
    "        else:\n",
    "            counts[word] += 1\n",
    "\n",
    "\n",
    "nuevoDFcmll=pd.DataFrame(counts,index=[0]).T"
   ]
  },
  {
   "cell_type": "code",
   "execution_count": null,
   "metadata": {
    "tags": []
   },
   "outputs": [],
   "source": [
    "#alfounam\n",
    "alfoDF=nuevoDFAlfon.copy()\n",
    "trigger=True\n",
    "for palaUnam in nuevoDFunam.index:\n",
    "    for palabraAlfo in nuevoDFAlfon.index:           \n",
    "        if palaUnam==palabraAlfo:\n",
    "            trigger=False\n",
    "    if trigger:\n",
    "        alfoDF.append(nuevoDFunam.loc[[palaUnam]])\n",
    "        alfoDF.at[palaUnam,0]=0\n",
    "        alfoDF= alfoDF.add(1)\n",
    "        trigger=True"
   ]
  },
  {
   "cell_type": "code",
   "execution_count": null,
   "metadata": {},
   "outputs": [],
   "source": [
    "#alfomicro\n",
    "trigger=True\n",
    "for palaMicro in nuevoDFmicrosoft.index:\n",
    "    for palabraAlfo in nuevoDFAlfon.index:           \n",
    "        if palaMicro==palabraAlfo:\n",
    "            trigger=False\n",
    "    if trigger:\n",
    "        alfoDF.append(nuevoDFmicrosoft.loc[[palaMicro]])\n",
    "        alfoDF.at[palaMicro,0]=0\n",
    "        alfoDF= alfoDF.add(1)\n",
    "        trigger=True"
   ]
  },
  {
   "cell_type": "code",
   "execution_count": null,
   "metadata": {},
   "outputs": [],
   "source": [
    "#alfocmll\n",
    "trigger=True\n",
    "for palaCmll in nuevoDFcmll.index:\n",
    "    for palabraAlfo in nuevoDFAlfon.index:           \n",
    "        if palaCmll==palabraAlfo:\n",
    "            trigger=False\n",
    "    if trigger:\n",
    "        alfoDF.append(nuevoDFcmll.loc[[palaCmll]])\n",
    "        alfoDF.at[palaCmll,0]=0\n",
    "        alfoDF= alfoDF.add(1)\n",
    "        trigger=True"
   ]
  },
  {
   "cell_type": "code",
   "execution_count": null,
   "metadata": {},
   "outputs": [],
   "source": [
    "#unamAmlo\n",
    "unamDF=nuevoDFunam.copy()\n",
    "trigger=True\n",
    "for palabraAlfo in nuevoDFAlfon.index:\n",
    "    for palaUnam in nuevoDFunam.index:           \n",
    "        if palaUnam==palabraAlfo:\n",
    "            trigger=False\n",
    "    if trigger:\n",
    "        unamDF.append(nuevoDFAlfon.loc[[palabraAlfo]])\n",
    "        unamDF.at[palabraAlfo,0]=0\n",
    "        unamDF= unamDF.add(1)\n",
    "        trigger=True"
   ]
  },
  {
   "cell_type": "code",
   "execution_count": null,
   "metadata": {},
   "outputs": [],
   "source": [
    "#unamMicro\n",
    "trigger=True\n",
    "for palabraMicro in nuevoDFmicrosoft.index:\n",
    "    for palaUnam in nuevoDFunam.index:           \n",
    "        if palaUnam==palabraMicro:\n",
    "            trigger=False\n",
    "    if trigger:\n",
    "        unamDF.append(nuevoDFmicrosoft.loc[[palabraMicro]])\n",
    "        unamDF.at[palabraMicro,0]=0\n",
    "        unamDF= unamDF.add(1)\n",
    "        trigger=True"
   ]
  },
  {
   "cell_type": "code",
   "execution_count": null,
   "metadata": {},
   "outputs": [],
   "source": [
    "#unamcmll\n",
    "trigger=True\n",
    "for palabraCmll in nuevoDFcmll.index:\n",
    "    for palaUnam in nuevoDFunam.index:           \n",
    "        if palaUnam==palabraCmll:\n",
    "            trigger=False\n",
    "    if trigger:\n",
    "        unamDF.append(nuevoDFcmll.loc[[palabraCmll]])\n",
    "        unamDF.at[palabraCmll,0]=0\n",
    "        unamDF= unamDF.add(1)\n",
    "        trigger=True"
   ]
  },
  {
   "cell_type": "code",
   "execution_count": null,
   "metadata": {},
   "outputs": [],
   "source": [
    "#microAmlo\n",
    "microDF=nuevoDFmicrosoft.copy()\n",
    "trigger=True\n",
    "for palabraAlfo in nuevoDFAlfon.index:\n",
    "    for palabraMicro in nuevoDFmicrosoft.index:           \n",
    "        if palabraMicro==palabraAlfo:\n",
    "            trigger=False\n",
    "    if trigger:\n",
    "        microDF.append(nuevoDFAlfon.loc[[palabraAlfo]])\n",
    "        microDF.at[palabraAlfo,0]=0\n",
    "        microDF= microDF.add(1)\n",
    "        trigger=True"
   ]
  },
  {
   "cell_type": "code",
   "execution_count": null,
   "metadata": {},
   "outputs": [],
   "source": [
    "#microUnam\n",
    "trigger=True\n",
    "for palaUnam in nuevoDFunam.index:\n",
    "    for palabraMicro in nuevoDFmicrosoft.index:           \n",
    "        if palabraMicro==palaUnam:\n",
    "            trigger=False\n",
    "    if trigger:\n",
    "        microDF.append(nuevoDFunam.loc[[palaUnam]])\n",
    "        microDF.at[palaUnam,0]=0\n",
    "        microDF= microDF.add(1)\n",
    "        trigger=True"
   ]
  },
  {
   "cell_type": "code",
   "execution_count": null,
   "metadata": {},
   "outputs": [],
   "source": [
    "#microCmll\n",
    "trigger=True\n",
    "for palabraCmll in nuevoDFcmll.index:\n",
    "    for palabraMicro in nuevoDFmicrosoft.index:           \n",
    "        if palabraMicro==palabraCmll:\n",
    "            trigger=False\n",
    "    if trigger:\n",
    "        microDF.append(nuevoDFcmll.loc[[palabraCmll]])\n",
    "        microDF.at[palabraCmll,0]=0\n",
    "        microDF= microDF.add(1)\n",
    "        trigger=True"
   ]
  },
  {
   "cell_type": "code",
   "execution_count": null,
   "metadata": {},
   "outputs": [],
   "source": [
    "#cmllAmlo\n",
    "cmllDF=nuevoDFcmll.copy()\n",
    "trigger=True\n",
    "for palabraAlfo in nuevoDFAlfon.index:\n",
    "    for palabraCmll in nuevoDFcmll.index:           \n",
    "        if palabraCmll==palabraAlfo:\n",
    "            trigger=False\n",
    "    if trigger:\n",
    "        cmllDF.append(nuevoDFAlfon.loc[[palabraAlfo]])\n",
    "        cmllDF.at[palabraAlfo,0]=0\n",
    "        cmllDF= cmllDF.add(1)\n",
    "        trigger=True"
   ]
  },
  {
   "cell_type": "code",
   "execution_count": null,
   "metadata": {},
   "outputs": [],
   "source": [
    "#cmllMicro\n",
    "trigger=True\n",
    "for palabraMicro in nuevoDFmicrosoft.index:\n",
    "    for palabraCmll in nuevoDFcmll.index:           \n",
    "        if palabraCmll==palabraMicro:\n",
    "            trigger=False\n",
    "    if trigger:\n",
    "        cmllDF.append(nuevoDFmicrosoft.loc[[palabraMicro]])\n",
    "        cmllDF.at[palabraMicro,0]=0\n",
    "        cmllDF= cmllDF.add(1)\n",
    "        trigger=True"
   ]
  },
  {
   "cell_type": "code",
   "execution_count": null,
   "metadata": {},
   "outputs": [],
   "source": [
    "#cmllUnam\n",
    "trigger=True\n",
    "for palaUnam in nuevoDFunam.index:\n",
    "    for palabraCmll in nuevoDFcmll.index:           \n",
    "        if palabraCmll==palaUnam:\n",
    "            trigger=False\n",
    "    if trigger:\n",
    "        cmllDF.append(nuevoDFunam.loc[[palaUnam]])\n",
    "        cmllDF.at[palaUnam,0]=0\n",
    "        cmllDF= cmllDF.add(1)\n",
    "        trigger=True"
   ]
  },
  {
   "cell_type": "code",
   "execution_count": null,
   "metadata": {},
   "outputs": [],
   "source": [
    "auxTest=test.copy()\n",
    "desaugrupaTest=auxTest.drop(labels='entrenamiento', axis=1)\n",
    "dfgTest=desaugrupaTest.groupby([\"screen_name\"])\n",
    "alfonzoTest=dfgTest.get_group(\"lopezobrador_\")\n",
    "unamTest=dfgTest.get_group(\"UNAM_MX\")\n",
    "microsoftTest=dfgTest.get_group(\"MSFTMexico\")\n",
    "cmllTest=dfgTest.get_group(\"CMLL_OFICIAL\")"
   ]
  },
  {
   "cell_type": "code",
   "execution_count": null,
   "metadata": {},
   "outputs": [],
   "source": [
    "counts = dict()\n",
    "for groupby in test.groupby(\"screen_name\"):\n",
    " for line in alfonzoTest[\"text\"]:\n",
    "    words = line.split()\n",
    "    for word in words:\n",
    "        if word not in counts:\n",
    "            counts[word] = 1\n",
    "        else:\n",
    "            counts[word] += 1\n",
    "\n",
    "\n",
    "nuevoDFAlfonTest=pd.DataFrame(counts,index=[0]).T"
   ]
  },
  {
   "cell_type": "code",
   "execution_count": null,
   "metadata": {},
   "outputs": [],
   "source": [
    "counts = dict()\n",
    "for groupby in test.groupby(\"screen_name\"):\n",
    " for line in unamTest[\"text\"]:\n",
    "    words = line.split()\n",
    "    for word in words:\n",
    "        if word not in counts:\n",
    "            counts[word] = 1\n",
    "        else:\n",
    "            counts[word] += 1\n",
    "\n",
    "\n",
    "nuevoDFUnamTest=pd.DataFrame(counts,index=[0]).T"
   ]
  },
  {
   "cell_type": "code",
   "execution_count": null,
   "metadata": {},
   "outputs": [],
   "source": [
    "counts = dict()\n",
    "for groupby in test.groupby(\"screen_name\"):\n",
    " for line in microsoftTest[\"text\"]:\n",
    "    words = line.split()\n",
    "    for word in words:\n",
    "        if word not in counts:\n",
    "            counts[word] = 1\n",
    "        else:\n",
    "            counts[word] += 1\n",
    "\n",
    "\n",
    "nuevoDFMicrosoftTest=pd.DataFrame(counts,index=[0]).T"
   ]
  },
  {
   "cell_type": "code",
   "execution_count": null,
   "metadata": {},
   "outputs": [],
   "source": [
    "counts = dict()\n",
    "for groupby in test.groupby(\"screen_name\"):\n",
    " for line in cmllTest[\"text\"]:\n",
    "    words = line.split()\n",
    "    for word in words:\n",
    "        if word not in counts:\n",
    "            counts[word] = 1\n",
    "        else:\n",
    "            counts[word] += 1\n",
    "\n",
    "\n",
    "nuevoDFCmllTest=pd.DataFrame(counts,index=[0]).T"
   ]
  },
  {
   "cell_type": "code",
   "execution_count": null,
   "metadata": {},
   "outputs": [],
   "source": [
    "#20amloUnam\n",
    "trigger=True\n",
    "for palaUnam in nuevoDFUnamTest.index:\n",
    "    for palabraAlfo in alfoDF.index:           \n",
    "        if palaUnam==palabraAlfo:\n",
    "            trigger=False\n",
    "    if trigger:\n",
    "        alfoDF.append(nuevoDFUnamTest.loc[[palaUnam]])\n",
    "        alfoDF.at[palaUnam,0]=0\n",
    "        alfoDF= alfoDF.add(1)\n",
    "        trigger=True"
   ]
  },
  {
   "cell_type": "code",
   "execution_count": null,
   "metadata": {},
   "outputs": [],
   "source": [
    "#20amloMicro\n",
    "trigger=True\n",
    "for palaMicro in nuevoDFMicrosoftTest.index:\n",
    "    for palabraAlfo in alfoDF.index:           \n",
    "        if palaMicro==palabraAlfo:\n",
    "            trigger=False\n",
    "    if trigger:\n",
    "        alfoDF.append(nuevoDFMicrosoftTest.loc[[palaMicro]])\n",
    "        alfoDF.at[palaMicro,0]=0\n",
    "        alfoDF= alfoDF.add(1)\n",
    "        trigger=True"
   ]
  },
  {
   "cell_type": "code",
   "execution_count": null,
   "metadata": {},
   "outputs": [],
   "source": [
    "#20amloCmll\n",
    "trigger=True\n",
    "for palaCmll in nuevoDFCmllTest.index:\n",
    "    for palabraAlfo in alfoDF.index:           \n",
    "        if palaCmll==palabraAlfo:\n",
    "            trigger=False\n",
    "    if trigger:\n",
    "        alfoDF.append(nuevoDFCmllTest.loc[[palaCmll]])\n",
    "        alfoDF.at[palaCmll,0]=0\n",
    "        alfoDF= alfoDF.add(1)\n",
    "        trigger=True"
   ]
  },
  {
   "cell_type": "code",
   "execution_count": null,
   "metadata": {},
   "outputs": [],
   "source": [
    "#20unamAmlo\n",
    "trigger=True\n",
    "for palabraAlfo in nuevoDFAlfonTest.index:\n",
    "    for palaUnam in unamDF.index:           \n",
    "        if palaUnam==palabraAlfo:\n",
    "            trigger=False\n",
    "    if trigger:\n",
    "        unamDF.append(nuevoDFAlfonTest.loc[[palabraAlfo]])\n",
    "        unamDF.at[palabraAlfo,0]=0\n",
    "        unamDF= unamDF.add(1)\n",
    "        trigger=True"
   ]
  },
  {
   "cell_type": "code",
   "execution_count": null,
   "metadata": {},
   "outputs": [],
   "source": [
    "#20unamMicro\n",
    "trigger=True\n",
    "for palaMicro in nuevoDFMicrosoftTest.index:\n",
    "    for palaUnam in unamDF.index:           \n",
    "        if palaUnam==palaMicro:\n",
    "            trigger=False\n",
    "    if trigger:\n",
    "        unamDF.append(nuevoDFMicrosoftTest.loc[[palaMicro]])\n",
    "        unamDF.at[palaMicro,0]=0\n",
    "        unamDF= unamDF.add(1)\n",
    "        trigger=True"
   ]
  },
  {
   "cell_type": "code",
   "execution_count": null,
   "metadata": {},
   "outputs": [],
   "source": [
    "#20unamCmll\n",
    "trigger=True\n",
    "for palaCmll in nuevoDFCmllTest.index:\n",
    "    for palaUnam in unamDF.index:           \n",
    "        if palaUnam==palaCmll:\n",
    "            trigger=False\n",
    "    if trigger:\n",
    "        unamDF.append(nuevoDFCmllTest.loc[[palaCmll]])\n",
    "        unamDF.at[palaCmll,0]=0\n",
    "        unamDF= unamDF.add(1)\n",
    "        trigger=True"
   ]
  },
  {
   "cell_type": "code",
   "execution_count": null,
   "metadata": {},
   "outputs": [],
   "source": [
    "#20microAmlo\n",
    "trigger=True\n",
    "for palabraAlfo in nuevoDFAlfonTest.index:\n",
    "    for palabraMicro in microDF.index:           \n",
    "        if palabraMicro==palabraAlfo:\n",
    "            trigger=False\n",
    "    if trigger:\n",
    "        microDF.append(nuevoDFAlfonTest.loc[[palabraAlfo]])\n",
    "        microDF.at[palabraAlfo,0]=0\n",
    "        microDF= microDF.add(1)\n",
    "        trigger=True"
   ]
  },
  {
   "cell_type": "code",
   "execution_count": null,
   "metadata": {},
   "outputs": [],
   "source": [
    "#20microUnam\n",
    "trigger=True\n",
    "for palaUnam in nuevoDFUnamTest.index:\n",
    "    for palabraMicro in microDF.index:           \n",
    "        if palabraMicro==palaUnam:\n",
    "            trigger=False\n",
    "    if trigger:\n",
    "        microDF.append(nuevoDFUnamTest.loc[[palaUnam]])\n",
    "        microDF.at[palaUnam,0]=0\n",
    "        microDF= microDF.add(1)\n",
    "        trigger=True"
   ]
  },
  {
   "cell_type": "code",
   "execution_count": null,
   "metadata": {},
   "outputs": [],
   "source": [
    "#20microCmll\n",
    "trigger=True\n",
    "for palaCmll in nuevoDFCmllTest.index:\n",
    "    for palabraMicro in microDF.index:           \n",
    "        if palabraMicro==palaCmll:\n",
    "            trigger=False\n",
    "    if trigger:\n",
    "        microDF.append(nuevoDFCmllTest.loc[[palaCmll]])\n",
    "        microDF.at[palaCmll,0]=0\n",
    "        microDF= microDF.add(1)\n",
    "        trigger=True"
   ]
  },
  {
   "cell_type": "code",
   "execution_count": null,
   "metadata": {},
   "outputs": [],
   "source": [
    "#20cmllAmlo\n",
    "trigger=True\n",
    "for palabraAlfo in nuevoDFAlfonTest.index:\n",
    "    for palabraCmll in cmllDF.index:           \n",
    "        if palabraCmll==palabraAlfo:\n",
    "            trigger=False\n",
    "    if trigger:\n",
    "        cmllDF.append(nuevoDFAlfonTest.loc[[palabraAlfo]])\n",
    "        cmllDF.at[palabraAlfo,0]=0\n",
    "        cmllDF= cmllDF.add(1)\n",
    "        trigger=True"
   ]
  },
  {
   "cell_type": "code",
   "execution_count": null,
   "metadata": {},
   "outputs": [],
   "source": [
    "#20cmllUnam\n",
    "trigger=True\n",
    "for palaUnam in nuevoDFUnamTest.index:\n",
    "    for palabraCmll in cmllDF.index:           \n",
    "        if palabraCmll==palaUnam:\n",
    "            trigger=False\n",
    "    if trigger:\n",
    "        cmllDF.append(nuevoDFUnamTest.loc[[palaUnam]])\n",
    "        cmllDF.at[palaUnam,0]=0\n",
    "        cmllDF= cmllDF.add(1)\n",
    "        trigger=True"
   ]
  },
  {
   "cell_type": "code",
   "execution_count": null,
   "metadata": {},
   "outputs": [],
   "source": [
    "#20cmllMicro\n",
    "trigger=True\n",
    "for palabraMicro in nuevoDFMicrosoftTest.index:\n",
    "    for palabraCmll in cmllDF.index:           \n",
    "        if palabraCmll==palabraMicro:\n",
    "            trigger=False\n",
    "    if trigger:\n",
    "        cmllDF.append(nuevoDFMicrosoftTest.loc[[palabraMicro]])\n",
    "        cmllDF.at[palabraMicro,0]=0\n",
    "        cmllDF= cmllDF.add(1)\n",
    "        trigger=True"
   ]
  },
  {
   "cell_type": "code",
   "execution_count": null,
   "metadata": {},
   "outputs": [],
   "source": [
    "proAmlo=(alfoDF[0:len(alfoDF)]/len(alfoDF))\n",
    "proUnam=(unamDF[0:len(unamDF)]/len(unamDF))\n",
    "proMicro=(microDF[0:len(microDF)]/len(microDF))\n",
    "proCmll=(cmllDF[0:len(cmllDF)]/len(cmllDF))"
   ]
  },
  {
   "cell_type": "code",
   "execution_count": null,
   "metadata": {
    "tags": []
   },
   "outputs": [],
   "source": [
    "counts = dict()\n",
    "indiceRandom=random.choice(test.index)\n",
    "words = test.at[indiceRandom,'text'].split()\n",
    "#words = \"del que los con para por veracruz comparto manana\".split()\n",
    "for word in words:\n",
    "    if word not in counts:\n",
    "        counts[word] = 1\n",
    "    else:\n",
    "        counts[word] += 1\n",
    "\n",
    "tweetprueba=pd.DataFrame(counts,index=[0]).T\n",
    "print(tweetprueba)\n",
    "print(indiceRandom)"
   ]
  },
  {
   "cell_type": "code",
   "execution_count": null,
   "metadata": {},
   "outputs": [],
   "source": [
    "protenciaAmlo=[]\n",
    "for palabraTest in tweetprueba.index:\n",
    "    for palabraPc in proAmlo.index:\n",
    "        if palabraTest==palabraPc:\n",
    "            rest=pow(proAmlo.at[palabraPc,0],tweetprueba.at[palabraTest,0])\n",
    "            protenciaAmlo.append(rest)\n",
    "            break"
   ]
  },
  {
   "cell_type": "code",
   "execution_count": null,
   "metadata": {},
   "outputs": [],
   "source": [
    "protenciaUnam=[]\n",
    "for palabraTest in tweetprueba.index:\n",
    "    for palabraPc in proUnam.index:\n",
    "        if palabraTest==palabraPc:\n",
    "            rest=pow(proUnam.at[palabraPc,0],tweetprueba.at[palabraTest,0])\n",
    "            protenciaUnam.append(rest)\n",
    "            break"
   ]
  },
  {
   "cell_type": "code",
   "execution_count": null,
   "metadata": {},
   "outputs": [],
   "source": [
    "protenciaMicro=[]\n",
    "for palabraTest in tweetprueba.index:\n",
    "    for palabraPc in proMicro.index:\n",
    "        if palabraTest==palabraPc:\n",
    "            rest=pow(proMicro.at[palabraPc,0],tweetprueba.at[palabraTest,0])\n",
    "            protenciaMicro.append(rest)\n",
    "            break"
   ]
  },
  {
   "cell_type": "code",
   "execution_count": null,
   "metadata": {},
   "outputs": [],
   "source": [
    "protenciaCmll=[]\n",
    "for palabraTest in tweetprueba.index:\n",
    "    for palabraPc in proCmll.index:\n",
    "        if palabraTest==palabraPc:\n",
    "            rest=pow(proCmll.at[palabraPc,0],tweetprueba.at[palabraTest,0])\n",
    "            protenciaCmll.append(rest)\n",
    "            break"
   ]
  },
  {
   "cell_type": "code",
   "execution_count": null,
   "metadata": {},
   "outputs": [],
   "source": [
    "producAmlo=np.prod(protenciaAmlo)\n",
    "producUnam=np.prod(protenciaUnam)\n",
    "producMicro=np.prod(protenciaMicro)\n",
    "producCmll=np.prod(protenciaCmll)\n",
    "\n",
    "probabilidadAmlo=producAmlo*proApior.at['lopezobrador_']\n",
    "probabilidadUnam=producUnam*proApior.at['UNAM_MX']\n",
    "probabilidadMicro=producMicro*proApior.at['MSFTMexico']\n",
    "probabilidadCmll=producCmll*proApior.at['CMLL_OFICIAL']"
   ]
  },
  {
   "cell_type": "code",
   "execution_count": null,
   "metadata": {
    "tags": []
   },
   "outputs": [],
   "source": [
    "dataTabla=pd.DataFrame(index=proApior.index,data=[probabilidadAmlo,probabilidadUnam,probabilidadMicro,probabilidadCmll])\n",
    "print(dataTabla)"
   ]
  },
  {
   "cell_type": "code",
   "execution_count": null,
   "metadata": {
    "tags": []
   },
   "outputs": [],
   "source": [
    "print(tweets.loc[indiceRandom])"
   ]
  },
  {
   "cell_type": "code",
   "execution_count": null,
   "metadata": {},
   "outputs": [],
   "source": [
    "creartabla=pd.DataFrame(index=proApior.index,columns=test.index)\n",
    "creartabla.at['lopezobrador_',4]=5\n",
    "creartabla"
   ]
  }
 ],
 "metadata": {
  "kernelspec": {
   "name": "Python 3.8.5 64-bit ('base': conda)",
   "display_name": "Python 3.8.5 64-bit ('base': conda)",
   "metadata": {
    "interpreter": {
     "hash": "f40d583d290512839acb4b60efce1f9e06d2fd2902185a87de4f922b2aa54c00"
    }
   }
  },
  "language_info": {
   "codemirror_mode": {
    "name": "ipython",
    "version": 3
   },
   "file_extension": ".py",
   "mimetype": "text/x-python",
   "name": "python",
   "nbconvert_exporter": "python",
   "pygments_lexer": "ipython3",
   "version": "3.8.5-final"
  }
 },
 "nbformat": 4,
 "nbformat_minor": 2
}